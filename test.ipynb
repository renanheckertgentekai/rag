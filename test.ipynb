{
 "cells": [
  {
   "cell_type": "code",
   "execution_count": 25,
   "metadata": {},
   "outputs": [],
   "source": [
    "from langchain_community.document_loaders import PyPDFLoader\n",
    "from langchain.text_splitter import RecursiveCharacterTextSplitter\n",
    "from langchain_openai import OpenAIEmbeddings\n",
    "import faiss\n",
    "from langchain_community.docstore.in_memory import InMemoryDocstore\n",
    "from langchain_community.vectorstores import FAISS\n",
    "\n",
    "import uuid"
   ]
  },
  {
   "cell_type": "markdown",
   "metadata": {},
   "source": [
    "## Load PDF"
   ]
  },
  {
   "cell_type": "code",
   "execution_count": 26,
   "metadata": {},
   "outputs": [],
   "source": [
    "file_path = \"./minikube.pdf\"\n",
    "loader = PyPDFLoader(file_path)\n",
    "documents = loader.load()"
   ]
  },
  {
   "cell_type": "markdown",
   "metadata": {},
   "source": [
    "## Generate Chunks"
   ]
  },
  {
   "cell_type": "code",
   "execution_count": 27,
   "metadata": {},
   "outputs": [
    {
     "data": {
      "text/plain": [
       "[Document(metadata={'producer': 'cairo 1.9.5 (http://cairographics.org)', 'creator': 'cairo 1.9.5 (http://cairographics.org)', 'creationdate': '', 'source': './minikube.pdf', 'total_pages': 7, 'page': 0, 'page_label': '1'}, page_content='How to Install Minikube on Ubuntu 18.04By Josphat Mutai  - June 20, 2018\\n(Last Updated On: September 30, 2018)\\nIn this tutorial, I’ll take you through the steps to install minikube on Ubuntu 18.04. To those\\nnew to minikube, let’s start with an introduction before diving to the installation steps.\\nMinikube is an open source tool that was developed to enable developers and system\\nadministrators to run a single cluster of Kubernetes on their local machine.\\xa0Minikube starts a\\nsingle node kubernetes cluster locally with small resource utilization. This is ideal for\\ndevelopment tests and POC purposes,\\nIn a nutshell, Minikube\\xa0packages and con�gures a Linux VM,\\xa0then installs Docker and all\\nKubernetes components into it.\\nMinikube supports Kubernetes features such as:\\nDNS\\nNodePorts\\nCon�gMaps and Secrets\\nDashboards\\nAs of this writing, Minikube does not yet support Cloud Provider speci�c features such as:\\nLoadBalancers\\nPersistentVolumes\\nIngress\\nHypervisor choice for Minikube:\\nMinikube supports both VirtualBox and KVM hypervisors. This guide will cover both\\nhypervisors.\\nStep 1: Update system\\nRun the following commands to update all system packages to the latest release:\\nsudo apt-get update\\nHow to Install Minikube on Ubuntu 18.04 - Compu... https://computingforgeeks.com/how-to-install-min...\\n1 de 7 24/10/18 13:06'),\n",
       " Document(metadata={'producer': 'cairo 1.9.5 (http://cairographics.org)', 'creator': 'cairo 1.9.5 (http://cairographics.org)', 'creationdate': '', 'source': './minikube.pdf', 'total_pages': 7, 'page': 1, 'page_label': '2'}, page_content='sudo apt-get install apt-transport-https\\nsudo apt-get upgrade\\nStep 2: Install KVM or VirtualBox Hypervisor\\nFor VirtualBox users, install\\xa0VirtualBox using:\\nsudo apt install virtualbox virtualbox-ext-pack\\nKVM Hypervisor Users\\nFor those interested in using KVM hypervisor, check our guide on how to\\xa0Install KVM on\\nCentOS 7 / Ubuntu 16.04 / Debian 9 / SLES 12 / Arch Linux.\\nThen follow\\xa0How to run Minikube on KVM instead.\\nStep 3: Download minikube\\nYou need to download the minikube binary. I will put the binary under /usr/local/bin\\ndirectory since it is inside\\xa0$PATH.\\nwget https://storage.googleapis.com/minikube/releases/latest/minikube-linu\\nchmod +x minikube-linux-amd64\\nsudo mv minikube-linux-amd64 /usr/local/bin/minikube\\n$ minikube version\\nminikube version: v0.28.0\\nStep 4: Install kubectl on Ubuntu 18.04\\nWe need kubectl which is a command line tool used to deploy and manage applications on\\nKubernetes\\ncurl -s https://packages.cloud.google.com/apt/doc/apt-key.gpg | sudo apt-k\\nCon�rm version installed\\nHow to Install Minikube on Ubuntu 18.04 - Compu... https://computingforgeeks.com/how-to-install-min...\\n2 de 7 24/10/18 13:06'),\n",
       " Document(metadata={'producer': 'cairo 1.9.5 (http://cairographics.org)', 'creator': 'cairo 1.9.5 (http://cairographics.org)', 'creationdate': '', 'source': './minikube.pdf', 'total_pages': 7, 'page': 2, 'page_label': '3'}, page_content='Add Kubernetes apt repository:\\necho \"deb http://apt.kubernetes.io/ kubernetes-xenial main\" | sudo tee\\xa0/et\\nUpdate apt index and install kubectl\\nsudo apt update\\nsudo apt -y install kubectl\\nCheck version:\\nStep 5:\\xa0Starting minikube\\nNow that components are installed, you can start minikube. VM image will be downloaded\\nand con�gure d for Kubernetes single node cluster.\\n$ minikube start\\nStarting local Kubernetes v1.10.0 cluster...\\nStarting VM...\\nDownloading Minikube ISO\\n150.53 MB / 150.53 MB [============================================] 100.0\\n# kubectl version -o json # kubectl version -o json \\n{{\\n  \"clientVersion\": {  \"clientVersion\": {\\n    \"major\": \"1\",    \"major\": \"1\",\\n    \"minor\": \"10\",    \"minor\": \"10\",\\n    \"gitVersion\": \"v1.10.4\",    \"gitVersion\": \"v1.10.4\",\\n    \"gitCommit\": \"5ca598b4ba5abb89bb773071ce452e33fb66339d\",    \"gitCommit\": \"5ca598b4ba5abb89bb773071ce452e33fb66339d\",\\n    \"gitTreeState\": \"clean\",    \"gitTreeState\": \"clean\",\\n    \"buildDate\": \"2018-06-06T08:13:03Z\",    \"buildDate\": \"2018-06-06T08:13:03Z\",\\n    \"goVersion\": \"go1.9.3\",    \"goVersion\": \"go1.9.3\",\\n    \"compiler\": \"gc\",    \"compiler\": \"gc\",'),\n",
       " Document(metadata={'producer': 'cairo 1.9.5 (http://cairographics.org)', 'creator': 'cairo 1.9.5 (http://cairographics.org)', 'creationdate': '', 'source': './minikube.pdf', 'total_pages': 7, 'page': 2, 'page_label': '3'}, page_content='\"platform\": \"linux/amd64\"    \"platform\": \"linux/amd64\"\\n  }  }\\n}}\\nHow to Install Minikube on Ubuntu 18.04 - Compu... https://computingforgeeks.com/how-to-install-min...\\n3 de 7 24/10/18 13:06'),\n",
       " Document(metadata={'producer': 'cairo 1.9.5 (http://cairographics.org)', 'creator': 'cairo 1.9.5 (http://cairographics.org)', 'creationdate': '', 'source': './minikube.pdf', 'total_pages': 7, 'page': 3, 'page_label': '4'}, page_content=\"Getting VM IP address...\\nMoving files into cluster...\\nDownloading kubeadm v1.10.0\\nDownloading kubelet v1.10.0\\nFinished Downloading kubeadm v1.10.0\\nFinished Downloading kubelet v1.10.0\\nSetting up certs...\\nConnecting to cluster...\\nSetting up kubeconfig...\\nStarting cluster components...\\nKubectl is now configured to use the cluster.\\nLoading cached images from config file.\\nWait for the download and setup to �nish then con�rm that everything is working �ne.\\nStep 6: Minikube Basic operations\\nTo check cluster status, run:\\n$ kubectl cluster-info\\nKubernetes master is running at https://192.168.39.117:8443\\nKubeDNS is running at https://192.168.39.117:8443/api/v1/namespaces/kube-s\\nTo further debug and diagnose cluster problems, use 'kubectl cluster-info \\n~/.minikube/machines/minikube/config.json\\nTo View Con�g, use:\\nNote that Minikube con�guration �le is located under\\n$ $ kubectl config viewkubectl config view\\nHow to Install Minikube on Ubuntu 18.04 - Compu... https://computingforgeeks.com/how-to-install-min...\\n4 de 7 24/10/18 13:06\"),\n",
       " Document(metadata={'producer': 'cairo 1.9.5 (http://cairographics.org)', 'creator': 'cairo 1.9.5 (http://cairographics.org)', 'creationdate': '', 'source': './minikube.pdf', 'total_pages': 7, 'page': 4, 'page_label': '5'}, page_content='apiVersion: v1apiVersion: v1\\nclusters:clusters:\\n- cluster:- cluster:\\n    certificate-authority: /home/jmutai/.minikube/ca.crt    certificate-authority: /home/jmutai/.minikube/ca.crt\\n    server:     server: https://192.168.39.117:8443https://192.168.39.117:8443\\n  name: minikube  name: minikube\\ncontexts:contexts:\\n- context:- context:\\n    cluster: minikube    cluster: minikube\\n    user: minikube    user: minikube\\n  name: minikube  name: minikube\\ncurrent-context: minikubecurrent-context: minikube\\nkind: Configkind: Config\\npreferences: preferences: {{}}\\nusers:users:\\n- name: minikube- name: minikube\\n  user:  user:\\n    client-certificate: /home/jmutai/.minikube/client.crt    client-certificate: /home/jmutai/.minikube/client.crt\\n    client-key: /home/jmutai/.minikube/client.key    client-key: /home/jmutai/.minikube/client.key\\nTo\\xa0check running nodes:\\n$ kubectl get nodes$ kubectl get nodes\\nNAME       STATUS    ROLES     AGE       VERSIONNAME       STATUS    ROLES     AGE       VERSION\\nminikube   Ready     master    13m       v1.10.0minikube   Ready     master    13m       v1.10.0\\nAccess minikube VM using ssh:\\n$ $ minikube minikube sshssh\\n                         _             _                                     _             _            \\n            _         _             _         _ (( )) (( ))'),\n",
       " Document(metadata={'producer': 'cairo 1.9.5 (http://cairographics.org)', 'creator': 'cairo 1.9.5 (http://cairographics.org)', 'creationdate': '', 'source': './minikube.pdf', 'total_pages': 7, 'page': 4, 'page_label': '5'}, page_content=\"___ ___    ___ ___  ((__))  ___    ___  ((__))|| ||//')  _   _ | |_      __  ')  _   _ | |_      __  \\n/'/' _  _ ` _ `` _ `\\\\\\\\|| ||//' _ `\\\\| || , <  ( ) ( )| '' _ `\\\\| || , <  ( ) ( )| '_`\\\\  /_`\\\\  /'__'__`\\\\`\\\\\\n|| (( )) (( )) |||| |||| (( )) |||| |||| ||\\\\`\\\\`\\\\ | (_) || |_) )(  ___/\\\\ | (_) || |_) )(  ___/\\n(_) (_) (_)(_)(_) (_)(_)(_) (_)`\\\\___/'(_) (_) (_)(_)(_) (_)(_)(_) (_)`\\\\___/'((_,__/'`\\\\_____,__/'`\\\\____))\\n$ $ sudosudo susu - -\\nHow to Install Minikube on Ubuntu 18.04 - Compu... https://computingforgeeks.com/how-to-install-min...\\n5 de 7 24/10/18 13:06\"),\n",
       " Document(metadata={'producer': 'cairo 1.9.5 (http://cairographics.org)', 'creator': 'cairo 1.9.5 (http://cairographics.org)', 'creationdate': '', 'source': './minikube.pdf', 'total_pages': 7, 'page': 5, 'page_label': '6'}, page_content='$ minikube stop\\nTo delete a local kubernetes cluster, use:\\n$ minikube delete\\nStep 7: Enable Kubernetes Dashboard\\nKubernete ships with a web\\xa0dashboard\\xa0which allows you to manage your cluster without\\ninteracting with a command line. The dashboard addon is installed and enabled by default on\\nminikube.\\n$ minikube dashboard\\nTo get the URL of the dashboard\\n$ minikube dashboard --url\\nTo stop a running local kubernetes cluster, run:\\n$ $ minikube addons listminikube addons list\\n- addon-manager: enabled- addon-manager: enabled\\n- coredns: disabled- coredns: disabled\\n- dashboard: enabled- dashboard: enabled\\n- default-storageclass: enabled- default-storageclass: enabled\\n- efk: disabled- efk: disabled\\n- freshpod: disabled- freshpod: disabled\\n- heapster: disabled- heapster: disabled\\n- ingress: disabled- ingress: disabled\\n- kube-dns: enabled- kube-dns: enabled\\n- metrics-server: disabled- metrics-server: disabled\\n- registry: disabled- registry: disabled\\n- registry-creds: disabled- registry-creds: disabled\\n- storage-provisioner: enabled- storage-provisioner: enabled\\nTo open directly on your default browser, use:\\nHow to Install Minikube on Ubuntu 18.04 - Compu... https://computingforgeeks.com/how-to-install-min...\\n6 de 7 24/10/18 13:06'),\n",
       " Document(metadata={'producer': 'cairo 1.9.5 (http://cairographics.org)', 'creator': 'cairo 1.9.5 (http://cairographics.org)', 'creationdate': '', 'source': './minikube.pdf', 'total_pages': 7, 'page': 6, 'page_label': '7'}, page_content='http://192.168.39.117:30000\\nAccess Kubernetes Dashboard by opening the URL on your favorite browser. For further\\nreading, check:\\nHello Minikube Series:\\xa0https://kubernetes.io/docs/tutorials/stateless-application/hello-minikube/\\nMinikube guides for newbies:\\xa0https://kubernetes.io/docs/getting-started-guides/minikube/\\nJosphat Mutai\\nhttps://computingforgeeks.com/\\nCo-founder of Computingforgeeks. Expertise in Virtualization, Cloud Computing, Linux/UNIX\\nsystems, Programming,Storage systems,HA, Server Clustering e.t.c.\\n\\ue81f\\nLike\\nHow to Install Minikube on Ubuntu 18.04 - Compu... https://computingforgeeks.com/how-to-install-min...\\n7 de 7 24/10/18 13:06')]"
      ]
     },
     "execution_count": 27,
     "metadata": {},
     "output_type": "execute_result"
    }
   ],
   "source": [
    "# Splitting\n",
    "text_splitter = RecursiveCharacterTextSplitter.from_tiktoken_encoder(\n",
    "    chunk_size=400, chunk_overlap=0, encoding_name='cl100k_base'\n",
    ")\n",
    "chunks = text_splitter.split_documents(documents)\n",
    "\n",
    "chunks"
   ]
  },
  {
   "cell_type": "markdown",
   "metadata": {},
   "source": [
    "## Create vector Store"
   ]
  },
  {
   "cell_type": "code",
   "execution_count": 31,
   "metadata": {},
   "outputs": [
    {
     "data": {
      "text/plain": [
       "['33311f27-e6ad-49bd-ab2b-2b5a3ac0b917',\n",
       " 'a9786e1e-ef9a-4d33-aa2a-96cf2264e3a5',\n",
       " '979a380c-de08-4adc-97a5-efd286fa76de',\n",
       " 'd192e659-019f-4588-8372-150ddc262d3a',\n",
       " '5f04b769-558d-4a8b-ac1e-e55db1f9363d',\n",
       " '1910944f-e5e6-49b5-8747-e22bfa3ca834',\n",
       " '5c1c7795-e0f1-416c-879f-a687e29801fb',\n",
       " 'f05320e5-066b-4a92-b91c-7df4d53566e2',\n",
       " '8837a227-464a-460f-88bd-5e6aa064f899']"
      ]
     },
     "execution_count": 31,
     "metadata": {},
     "output_type": "execute_result"
    }
   ],
   "source": [
    "\n",
    "embeddings = OpenAIEmbeddings(model=\"text-embedding-3-large\")\n",
    "\n",
    "index = faiss.IndexFlatL2(len(embeddings.embed_query(chunks[0].page_content)))\n",
    "\n",
    "vector_store = FAISS(\n",
    "    embedding_function=embeddings,\n",
    "    index=index,\n",
    "    docstore=InMemoryDocstore(),\n",
    "    index_to_docstore_id={},\n",
    ")\n",
    "uuids = [str(uuid.uuid4()) for _ in range(len(chunks))]\n",
    "\n",
    "vector_store.add_documents(documents=chunks, ids=uuids)"
   ]
  },
  {
   "cell_type": "code",
   "execution_count": 36,
   "metadata": {},
   "outputs": [
    {
     "data": {
      "text/plain": [
       "[(Document(id='979a380c-de08-4adc-97a5-efd286fa76de', metadata={'producer': 'cairo 1.9.5 (http://cairographics.org)', 'creator': 'cairo 1.9.5 (http://cairographics.org)', 'creationdate': '', 'source': './minikube.pdf', 'total_pages': 7, 'page': 2, 'page_label': '3'}, page_content='Add Kubernetes apt repository:\\necho \"deb http://apt.kubernetes.io/ kubernetes-xenial main\" | sudo tee\\xa0/et\\nUpdate apt index and install kubectl\\nsudo apt update\\nsudo apt -y install kubectl\\nCheck version:\\nStep 5:\\xa0Starting minikube\\nNow that components are installed, you can start minikube. VM image will be downloaded\\nand con�gure d for Kubernetes single node cluster.\\n$ minikube start\\nStarting local Kubernetes v1.10.0 cluster...\\nStarting VM...\\nDownloading Minikube ISO\\n150.53 MB / 150.53 MB [============================================] 100.0\\n# kubectl version -o json # kubectl version -o json \\n{{\\n  \"clientVersion\": {  \"clientVersion\": {\\n    \"major\": \"1\",    \"major\": \"1\",\\n    \"minor\": \"10\",    \"minor\": \"10\",\\n    \"gitVersion\": \"v1.10.4\",    \"gitVersion\": \"v1.10.4\",\\n    \"gitCommit\": \"5ca598b4ba5abb89bb773071ce452e33fb66339d\",    \"gitCommit\": \"5ca598b4ba5abb89bb773071ce452e33fb66339d\",\\n    \"gitTreeState\": \"clean\",    \"gitTreeState\": \"clean\",\\n    \"buildDate\": \"2018-06-06T08:13:03Z\",    \"buildDate\": \"2018-06-06T08:13:03Z\",\\n    \"goVersion\": \"go1.9.3\",    \"goVersion\": \"go1.9.3\",\\n    \"compiler\": \"gc\",    \"compiler\": \"gc\",'),\n",
       "  np.float32(0.84640205)),\n",
       " (Document(id='33311f27-e6ad-49bd-ab2b-2b5a3ac0b917', metadata={'producer': 'cairo 1.9.5 (http://cairographics.org)', 'creator': 'cairo 1.9.5 (http://cairographics.org)', 'creationdate': '', 'source': './minikube.pdf', 'total_pages': 7, 'page': 0, 'page_label': '1'}, page_content='How to Install Minikube on Ubuntu 18.04By Josphat Mutai  - June 20, 2018\\n(Last Updated On: September 30, 2018)\\nIn this tutorial, I’ll take you through the steps to install minikube on Ubuntu 18.04. To those\\nnew to minikube, let’s start with an introduction before diving to the installation steps.\\nMinikube is an open source tool that was developed to enable developers and system\\nadministrators to run a single cluster of Kubernetes on their local machine.\\xa0Minikube starts a\\nsingle node kubernetes cluster locally with small resource utilization. This is ideal for\\ndevelopment tests and POC purposes,\\nIn a nutshell, Minikube\\xa0packages and con�gures a Linux VM,\\xa0then installs Docker and all\\nKubernetes components into it.\\nMinikube supports Kubernetes features such as:\\nDNS\\nNodePorts\\nCon�gMaps and Secrets\\nDashboards\\nAs of this writing, Minikube does not yet support Cloud Provider speci�c features such as:\\nLoadBalancers\\nPersistentVolumes\\nIngress\\nHypervisor choice for Minikube:\\nMinikube supports both VirtualBox and KVM hypervisors. This guide will cover both\\nhypervisors.\\nStep 1: Update system\\nRun the following commands to update all system packages to the latest release:\\nsudo apt-get update\\nHow to Install Minikube on Ubuntu 18.04 - Compu... https://computingforgeeks.com/how-to-install-min...\\n1 de 7 24/10/18 13:06'),\n",
       "  np.float32(0.8692466)),\n",
       " (Document(id='5c1c7795-e0f1-416c-879f-a687e29801fb', metadata={'producer': 'cairo 1.9.5 (http://cairographics.org)', 'creator': 'cairo 1.9.5 (http://cairographics.org)', 'creationdate': '', 'source': './minikube.pdf', 'total_pages': 7, 'page': 4, 'page_label': '5'}, page_content=\"___ ___    ___ ___  ((__))  ___    ___  ((__))|| ||//')  _   _ | |_      __  ')  _   _ | |_      __  \\n/'/' _  _ ` _ `` _ `\\\\\\\\|| ||//' _ `\\\\| || , <  ( ) ( )| '' _ `\\\\| || , <  ( ) ( )| '_`\\\\  /_`\\\\  /'__'__`\\\\`\\\\\\n|| (( )) (( )) |||| |||| (( )) |||| |||| ||\\\\`\\\\`\\\\ | (_) || |_) )(  ___/\\\\ | (_) || |_) )(  ___/\\n(_) (_) (_)(_)(_) (_)(_)(_) (_)`\\\\___/'(_) (_) (_)(_)(_) (_)(_)(_) (_)`\\\\___/'((_,__/'`\\\\_____,__/'`\\\\____))\\n$ $ sudosudo susu - -\\nHow to Install Minikube on Ubuntu 18.04 - Compu... https://computingforgeeks.com/how-to-install-min...\\n5 de 7 24/10/18 13:06\"),\n",
       "  np.float32(0.88806504)),\n",
       " (Document(id='1910944f-e5e6-49b5-8747-e22bfa3ca834', metadata={'producer': 'cairo 1.9.5 (http://cairographics.org)', 'creator': 'cairo 1.9.5 (http://cairographics.org)', 'creationdate': '', 'source': './minikube.pdf', 'total_pages': 7, 'page': 4, 'page_label': '5'}, page_content='apiVersion: v1apiVersion: v1\\nclusters:clusters:\\n- cluster:- cluster:\\n    certificate-authority: /home/jmutai/.minikube/ca.crt    certificate-authority: /home/jmutai/.minikube/ca.crt\\n    server:     server: https://192.168.39.117:8443https://192.168.39.117:8443\\n  name: minikube  name: minikube\\ncontexts:contexts:\\n- context:- context:\\n    cluster: minikube    cluster: minikube\\n    user: minikube    user: minikube\\n  name: minikube  name: minikube\\ncurrent-context: minikubecurrent-context: minikube\\nkind: Configkind: Config\\npreferences: preferences: {{}}\\nusers:users:\\n- name: minikube- name: minikube\\n  user:  user:\\n    client-certificate: /home/jmutai/.minikube/client.crt    client-certificate: /home/jmutai/.minikube/client.crt\\n    client-key: /home/jmutai/.minikube/client.key    client-key: /home/jmutai/.minikube/client.key\\nTo\\xa0check running nodes:\\n$ kubectl get nodes$ kubectl get nodes\\nNAME       STATUS    ROLES     AGE       VERSIONNAME       STATUS    ROLES     AGE       VERSION\\nminikube   Ready     master    13m       v1.10.0minikube   Ready     master    13m       v1.10.0\\nAccess minikube VM using ssh:\\n$ $ minikube minikube sshssh\\n                         _             _                                     _             _            \\n            _         _             _         _ (( )) (( ))'),\n",
       "  np.float32(0.9330017))]"
      ]
     },
     "execution_count": 36,
     "metadata": {},
     "output_type": "execute_result"
    }
   ],
   "source": [
    "vector_store.similarity_search(\"What is minikube\", k=4)\n",
    "vector_store.similarity_search_with_score(\"What is minikube\", k=4)"
   ]
  }
 ],
 "metadata": {
  "kernelspec": {
   "display_name": ".venv",
   "language": "python",
   "name": "python3"
  },
  "language_info": {
   "codemirror_mode": {
    "name": "ipython",
    "version": 3
   },
   "file_extension": ".py",
   "mimetype": "text/x-python",
   "name": "python",
   "nbconvert_exporter": "python",
   "pygments_lexer": "ipython3",
   "version": "3.12.6"
  }
 },
 "nbformat": 4,
 "nbformat_minor": 2
}
